{
 "cells": [
  {
   "cell_type": "code",
   "execution_count": null,
   "id": "6656cbbd",
   "metadata": {},
   "outputs": [
    {
     "data": {
      "text/plain": [
       "array([[[95, 81, 78],\n",
       "        [97, 83, 80],\n",
       "        [98, 84, 81],\n",
       "        ...,\n",
       "        [25, 27, 22],\n",
       "        [25, 27, 22],\n",
       "        [25, 27, 22]],\n",
       "\n",
       "       [[95, 81, 78],\n",
       "        [96, 82, 79],\n",
       "        [96, 82, 79],\n",
       "        ...,\n",
       "        [25, 27, 22],\n",
       "        [25, 27, 22],\n",
       "        [25, 27, 22]],\n",
       "\n",
       "       [[95, 81, 78],\n",
       "        [94, 80, 77],\n",
       "        [94, 80, 77],\n",
       "        ...,\n",
       "        [25, 27, 22],\n",
       "        [25, 27, 22],\n",
       "        [25, 27, 22]],\n",
       "\n",
       "       ...,\n",
       "\n",
       "       [[19, 29, 20],\n",
       "        [20, 30, 21],\n",
       "        [20, 30, 21],\n",
       "        ...,\n",
       "        [23, 30, 22],\n",
       "        [24, 31, 23],\n",
       "        [24, 31, 23]],\n",
       "\n",
       "       [[20, 30, 21],\n",
       "        [20, 30, 21],\n",
       "        [19, 29, 20],\n",
       "        ...,\n",
       "        [23, 30, 22],\n",
       "        [24, 31, 23],\n",
       "        [24, 31, 23]],\n",
       "\n",
       "       [[20, 30, 21],\n",
       "        [19, 29, 20],\n",
       "        [19, 29, 20],\n",
       "        ...,\n",
       "        [23, 30, 22],\n",
       "        [24, 31, 23],\n",
       "        [24, 31, 23]]], dtype=uint8)"
      ]
     },
     "execution_count": 9,
     "metadata": {},
     "output_type": "execute_result"
    }
   ],
   "source": [
    "#======== Import Library ========#\n",
    "import cv2\n",
    "import matplotlib.pyplot as plt\n",
    "import argparse \n",
    "import os\n",
    "import imageio\n",
    "\n",
    "#======== Load Image =========#\n",
    "\n",
    "image_path  ='images_data/00-puppy.jpg'\n",
    "\n",
    "\n",
    "# img = imageio.imread(image_path)\n",
    "img = cv2.imread(image_path)\n",
    "img = cv2.cvtColor(img, cv2.COLOR_BGR2RGB)\n"
   ]
  }
 ],
 "metadata": {
  "kernelspec": {
   "display_name": "kevin",
   "language": "python",
   "name": "python3"
  },
  "language_info": {
   "codemirror_mode": {
    "name": "ipython",
    "version": 3
   },
   "file_extension": ".py",
   "mimetype": "text/x-python",
   "name": "python",
   "nbconvert_exporter": "python",
   "pygments_lexer": "ipython3",
   "version": "3.10.13"
  }
 },
 "nbformat": 4,
 "nbformat_minor": 5
}
